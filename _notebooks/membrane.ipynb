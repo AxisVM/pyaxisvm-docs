{
 "cells": [
  {
   "cell_type": "markdown",
   "metadata": {},
   "source": [
    "# Simply Supported Beam as a Membrane"
   ]
  },
  {
   "cell_type": "markdown",
   "metadata": {},
   "source": [
    "In this example we model a simply supported beam as a membrane, under the effect of a constant distributed load. We run run a linear analysis and do some plotting with both `AxisVM` and `matplotlib`."
   ]
  },
  {
   "cell_type": "markdown",
   "metadata": {},
   "source": [
    "***"
   ]
  },
  {
   "cell_type": "markdown",
   "metadata": {},
   "source": [
    "## Create a COM interface to a new instance of AxisVM"
   ]
  },
  {
   "cell_type": "markdown",
   "metadata": {},
   "source": [
    "We create a new instance of AxisVM, and make it visible. For the meaning of the argument `daemon=True`, take a look on the docstring of the function."
   ]
  },
  {
   "cell_type": "code",
   "execution_count": 1,
   "metadata": {},
   "outputs": [],
   "source": [
    "from axisvm.com.client import start_AxisVM\n",
    "axvm = start_AxisVM(visible=True, daemon=True)\n"
   ]
  },
  {
   "cell_type": "markdown",
   "metadata": {},
   "source": [
    "The type library itself can be imported as"
   ]
  },
  {
   "cell_type": "code",
   "execution_count": 2,
   "metadata": {},
   "outputs": [],
   "source": [
    "import axisvm.com.tlb as axtlb"
   ]
  },
  {
   "cell_type": "markdown",
   "metadata": {},
   "source": [
    "If this is not the first time, this import statement can be at the top of the unit."
   ]
  },
  {
   "cell_type": "markdown",
   "metadata": {},
   "source": [
    "Create a new model and set the working directory. An empty string means the directory where AxisVM.exe is located:"
   ]
  },
  {
   "cell_type": "code",
   "execution_count": 3,
   "metadata": {},
   "outputs": [],
   "source": [
    "modelId = axvm.Models.New()\n",
    "axm = axvm.Models[modelId]\n",
    "wdir = \"\"\n"
   ]
  },
  {
   "cell_type": "markdown",
   "metadata": {},
   "source": [
    "## Input data"
   ]
  },
  {
   "cell_type": "markdown",
   "metadata": {},
   "source": [
    "When talking about input data, don't forget, that AxisVM internally stores values in $kN$ and $m$."
   ]
  },
  {
   "cell_type": "code",
   "execution_count": 4,
   "metadata": {},
   "outputs": [],
   "source": [
    "L = 10.0  # length of the beam\n",
    "h = 2.0  # height of the cross-section\n",
    "b = 0.2  # width of the cross section\n",
    "pz = -10.0  # intensity of vertical distributed load\n",
    "px = 0.0  # intensity of horizontal distributed load\n"
   ]
  },
  {
   "cell_type": "markdown",
   "metadata": {},
   "source": [
    "## Material"
   ]
  },
  {
   "cell_type": "markdown",
   "metadata": {},
   "source": [
    "Set Eurocode as the standard and \"C16/20\" concrete form the material library."
   ]
  },
  {
   "cell_type": "code",
   "execution_count": 5,
   "metadata": {},
   "outputs": [],
   "source": [
    "axm.Settings.NationalDesignCode = axtlb.ndcEuroCode\n",
    "matId = axm.Materials.AddFromCatalog(axtlb.ndcEuroCode, \"C16/20\")\n"
   ]
  },
  {
   "cell_type": "markdown",
   "metadata": {},
   "source": [
    "## Geometry"
   ]
  },
  {
   "cell_type": "markdown",
   "metadata": {},
   "source": [
    "The definition of a geometry of a model follows a hierarchical workflow. This means, that we cannot directly define the domains. Instead, we first define the nodes that make up the lines, with which finally we define the domains."
   ]
  },
  {
   "cell_type": "markdown",
   "metadata": {},
   "source": [
    "We create the beam as two touching domains, which makes up for a total of 6 nodes. We also store the indices of the defined nodes as a reference for creating the lines."
   ]
  },
  {
   "cell_type": "code",
   "execution_count": 6,
   "metadata": {},
   "outputs": [],
   "source": [
    "import numpy as np\n",
    "from axisvm.com.tlb import dofYfix\n",
    "\n",
    "coords = np.zeros((6, 3))  # we have six points in a 3d space\n",
    "coords[0, :] = 0., 0., -h/2\n",
    "coords[1, :] = 0., 0., 0.\n",
    "coords[2, :] = 0., 0., h/2\n",
    "coords[3, :] = L, 0., -h/2\n",
    "coords[4, :] = L, 0., 0.\n",
    "coords[5, :] = L, 0., h/2\n",
    "\n",
    "# we are working in the x-z plane, so all nodes are supported\n",
    "# against displacement in y-direction\n",
    "fnc = axm.Nodes.AddWithDOF\n",
    "nodeIDs = list(map(lambda c: fnc(*c, dofYfix), coords))\n"
   ]
  },
  {
   "cell_type": "markdown",
   "metadata": {},
   "source": [
    "We define the lines that make up the domains and store their indices in a `list`. "
   ]
  },
  {
   "cell_type": "code",
   "execution_count": 7,
   "metadata": {},
   "outputs": [],
   "source": [
    "nodes_of_lines = [[0, 1], [1, 2], [3, 4], [4, 5], [0, 3], [1, 4], [2, 5]]\n",
    "LineGeomType = axtlb.lgtStraightLine\n",
    "lineIDs = []\n",
    "for line in nodes_of_lines:\n",
    "    lineIDs.append(axm.Lines.Add(nodeIDs[line[0]], nodeIDs[line[1]],\n",
    "                   LineGeomType, axtlb.RLineGeomData())[1])\n"
   ]
  },
  {
   "cell_type": "markdown",
   "metadata": {},
   "source": [
    "Now we are in a position to create the domains by providing lineIDs."
   ]
  },
  {
   "cell_type": "code",
   "execution_count": 8,
   "metadata": {},
   "outputs": [],
   "source": [
    "from axisvm.com.tlb import RSurfaceAttr, lnlTensionAndCompression, \\\n",
    "    RResistancesXYZ, schLinear, stMembraneStress, RElasticFoundationXYZ, \\\n",
    "    RNonLinearityXYZ\n",
    "\n",
    "sattr = RSurfaceAttr(\n",
    "    Thickness=b,\n",
    "    SurfaceType=stMembraneStress,\n",
    "    RefZId=0,\n",
    "    RefXId=0,\n",
    "    MaterialId=matId,\n",
    "    ElasticFoundation=RElasticFoundationXYZ(0, 0, 0),\n",
    "    NonLinearity=RNonLinearityXYZ(lnlTensionAndCompression,\n",
    "                                  lnlTensionAndCompression,\n",
    "                                  lnlTensionAndCompression),\n",
    "    Resistance=RResistancesXYZ(0, 0, 0),\n",
    "    Charactersitics=schLinear)\n",
    "\n",
    "lines_of_domains = [[0, 4, 2, 5], [1, 5, 3, 6]]\n",
    "domainIDs = []\n",
    "for d in lines_of_domains:\n",
    "    domainIDs.append(axm.Domains.Add(LineIds=[lineIDs[i] for i in d],\n",
    "                                     SurfaceAttr=sattr)[1])\n"
   ]
  },
  {
   "cell_type": "markdown",
   "metadata": {},
   "source": [
    "## Loads"
   ]
  },
  {
   "cell_type": "markdown",
   "metadata": {},
   "source": [
    "We add a line load on the whole span of the beam with the specified load intensities."
   ]
  },
  {
   "cell_type": "code",
   "execution_count": 9,
   "metadata": {},
   "outputs": [],
   "source": [
    "lines3d = axvm.ObjectCreator.NewLines3d()\n",
    "line3d = axtlb.RLine3d(\n",
    "    LineType=axtlb.ltStraightLine3d,\n",
    "    P1=axtlb.RPoint3d(0, 0, 0),\n",
    "    P2=axtlb.RPoint3d(L, 0, 0)\n",
    ")\n",
    "lines3d.Add(line3d)\n",
    "LoadDomainPolyLine = axtlb.RLoadDomainPolyLine(\n",
    "    LoadCaseId=1,\n",
    "    px1=px,\n",
    "    px2=px,\n",
    "    py1=0,\n",
    "    py2=0,\n",
    "    pz1=pz,\n",
    "    pz2=pz,\n",
    "    DistributionType=axtlb.dtGlobal,\n",
    "    Nx=0,\n",
    "    Ny=0,\n",
    "    Nz=1\n",
    ")\n",
    "_ = axm.Loads.AddDomainPolyLine(lines3d, LoadDomainPolyLine)\n"
   ]
  },
  {
   "cell_type": "markdown",
   "metadata": {},
   "source": [
    "## Supports"
   ]
  },
  {
   "cell_type": "markdown",
   "metadata": {},
   "source": [
    "We add two hinged supports at the ends."
   ]
  },
  {
   "cell_type": "code",
   "execution_count": 10,
   "metadata": {},
   "outputs": [],
   "source": [
    "springleft = axtlb.RStiffnesses(\n",
    "    x=1e12,\n",
    "    y=1e12,\n",
    "    z=1e12,\n",
    "    xx=0,\n",
    "    yy=0,\n",
    "    zz=0\n",
    ")\n",
    "springright = axtlb.RStiffnesses(\n",
    "    x=1e12,\n",
    "    y=1e12,\n",
    "    z=1e12,\n",
    "    xx=0,\n",
    "    yy=0,\n",
    "    zz=0\n",
    ")\n",
    "RNonLinearity = axtlb.RNonLinearity(\n",
    "    x=axtlb.lnlTensionAndCompression,\n",
    "    y=axtlb.lnlTensionAndCompression,\n",
    "    z=axtlb.lnlTensionAndCompression,\n",
    "    xx=axtlb.lnlTensionAndCompression,\n",
    "    yy=axtlb.lnlTensionAndCompression,\n",
    "    zz=axtlb.lnlTensionAndCompression\n",
    ")\n",
    "RResistances = axtlb.RResistances(\n",
    "    x=0,\n",
    "    y=0,\n",
    "    z=0,\n",
    "    xx=0,\n",
    "    yy=0,\n",
    "    zz=0\n",
    ")\n",
    "_ = axm.NodalSupports.AddNodalGlobal(springleft, RNonLinearity,\n",
    "                                     RResistances, nodeIDs[1])\n",
    "_ = axm.NodalSupports.AddNodalGlobal(springright, RNonLinearity,\n",
    "                                     RResistances, nodeIDs[4])\n"
   ]
  },
  {
   "cell_type": "markdown",
   "metadata": {},
   "source": [
    "## Meshing"
   ]
  },
  {
   "cell_type": "markdown",
   "metadata": {},
   "source": [
    "We define a triangle mesh, with a mesh size of $h/5$."
   ]
  },
  {
   "cell_type": "code",
   "execution_count": 11,
   "metadata": {},
   "outputs": [],
   "source": [
    "MeshParams = axtlb.RDomainMeshParameters(\n",
    "    MeshSize=h/5,\n",
    "    MeshType=axtlb.mtUniform,\n",
    "    MeshGeometryType=axtlb.mgtTriangle\n",
    ")\n",
    "axm.Domains[:].GenerateMesh(MeshParams);"
   ]
  },
  {
   "cell_type": "markdown",
   "metadata": {},
   "source": [
    "Notice the use of the semicolon here. This simplifies carrying out the same operation over a range of domains. (the colon at the end simply suppresses the output)."
   ]
  },
  {
   "cell_type": "markdown",
   "metadata": {},
   "source": [
    "## Processing"
   ]
  },
  {
   "cell_type": "markdown",
   "metadata": {},
   "source": [
    "We save the file and run a linear analysis, with all warnings suppressed."
   ]
  },
  {
   "cell_type": "code",
   "execution_count": 12,
   "metadata": {},
   "outputs": [
    {
     "data": {
      "text/plain": [
       "1"
      ]
     },
     "execution_count": 12,
     "metadata": {},
     "output_type": "execute_result"
    }
   ],
   "source": [
    "fpath = wdir + 'ss_beam_M.axs'\n",
    "axm.SaveToFile(fpath, False)\n",
    "axm.Calculation.LinearAnalysis(axtlb.cuiNoUserInteractionWithAutoCorrectNoShow)\n"
   ]
  },
  {
   "cell_type": "markdown",
   "metadata": {},
   "source": [
    "## Plotting with AxisVM"
   ]
  },
  {
   "cell_type": "markdown",
   "metadata": {},
   "source": [
    "We want to plot vertical displacements. At the end we save the plot to a file in the working directory."
   ]
  },
  {
   "cell_type": "code",
   "execution_count": 13,
   "metadata": {},
   "outputs": [
    {
     "data": {
      "text/plain": [
       "1"
      ]
     },
     "execution_count": 13,
     "metadata": {},
     "output_type": "execute_result"
    }
   ],
   "source": [
    "\n",
    "# we want the front of the domains to fill up the screen entirely\n",
    "axm.View = axtlb.vFront\n",
    "axm.FitInView()\n",
    "\n",
    "# turn off the grid\n",
    "GridOptions = axtlb.RGridOptions(DisplayGrid=False)\n",
    "axm.Settings.SetGridOptions(GridOptions)\n",
    "\n",
    "WriteValuesTo = axtlb.RWriteValuesTo(\n",
    "    Nodes=True,\n",
    "    Lines=True,\n",
    "    Surfaces=False,\n",
    "    MinMaxOnly=True\n",
    ")\n",
    "\n",
    "BasicDispParams = axtlb.RBasicDisplayParameters_V153(\n",
    "    ResultComponent=axtlb.rc_d_eZ,\n",
    "    Scale=1.0,\n",
    "    DisplayMode=axtlb.dmIsosurfaces2D,\n",
    "    DisplayShape=axtlb.dsUndeformed,\n",
    "    WriteValuesTo=WriteValuesTo\n",
    ")\n",
    "\n",
    "ExtDispParams = axtlb.RExtendedDisplayParameters_V153(\n",
    "    BasicDispParams=BasicDispParams,\n",
    "    DisplayAnalysisType=axtlb.datLinear,\n",
    "    ResultType=axtlb.rtLoadCase\n",
    ")\n",
    "axm.Windows.SetStaticDisplayParameters_V153(1, ExtDispParams, 1, [])\n",
    "\n",
    "axm.Windows.ReDraw()\n",
    "imgpath = wdir + 'ss_beam_M_ez.bmp'\n",
    "axm.Windows[1].SaveWindowToBitmap(axtlb.wcmColour, imgpath)\n",
    "axvm.BringToFront()\n"
   ]
  },
  {
   "cell_type": "markdown",
   "metadata": {},
   "source": [
    "## Plotting with `matplotlib`"
   ]
  },
  {
   "cell_type": "markdown",
   "metadata": {},
   "source": [
    "We collect the data and create a 'minimal-effort' plot with `matplotlib`."
   ]
  },
  {
   "cell_type": "code",
   "execution_count": 14,
   "metadata": {},
   "outputs": [],
   "source": [
    "disps = axm.Results.Displacements\n",
    "disps.DisplacementSystem = axtlb.dsGlobal\n",
    "disps.LoadCaseId = 1\n",
    "disps.LoadLevelOrModeShapeOrTimeStep = 1\n",
    "\n",
    "# IDs of all the nodes in the model\n",
    "nIDs = [i+1 for i in range(axm.Nodes.Count)]\n",
    "\n",
    "# displacement data\n",
    "def fnc(i): return disps.NodalDisplacementByLoadCaseId(i)[0].ez\n",
    "data = np.array(list(map(fnc, nIDs)))\n",
    "\n",
    "# coordinates of the nodes as a numpy array\n",
    "coords = axm.Nodes.BulkGetCoord(nIDs)[0]\n",
    "coords = np.array([[n.x, n.y, n.z] for n in coords])\n",
    "\n",
    "# get the topology as a numpy array\n",
    "def fnc(i): return axm.Surfaces.Item[i].GetContourPoints()[0]\n",
    "sIDs1 = axm.Domains.Item[1].MeshSurfaceIds\n",
    "tri1 = np.vstack(list(map(fnc, sIDs1))) - 1\n",
    "sIDs2 = axm.Domains.Item[2].MeshSurfaceIds\n",
    "tri2 = np.vstack(list(map(fnc, sIDs2))) - 1\n",
    "triangles = np.vstack((tri1, tri2))\n"
   ]
  },
  {
   "cell_type": "code",
   "execution_count": 15,
   "metadata": {},
   "outputs": [
    {
     "data": {
      "image/png": "[encoded data removed]",
      "text/plain": [
       "<Figure size 800x200 with 2 Axes>"
      ]
     },
     "metadata": {},
     "output_type": "display_data"
    }
   ],
   "source": [
    "from mpl_toolkits.axes_grid1 import make_axes_locatable\n",
    "import matplotlib.tri as tri\n",
    "import matplotlib.pyplot as plt\n",
    "\n",
    "%matplotlib inline\n",
    "\n",
    "px = 1/plt.rcParams['figure.dpi']  # pixel in inches\n",
    "fig, ax = plt.subplots(figsize=(800*px, 200*px))\n",
    "triobj = tri.Triangulation(coords[:, 0], coords[:, 2], triangles=triangles)\n",
    "triplot = ax.tripcolor(triobj, data*1000, cmap='jet')\n",
    "ax.set_aspect('equal')\n",
    "fig.tight_layout()\n",
    "divider = make_axes_locatable(ax)\n",
    "cax = divider.append_axes(\"right\", size=\"5%\", pad=0.05)\n",
    "fig.colorbar(triplot, cax=cax)\n",
    "plt.show()\n"
   ]
  },
  {
   "cell_type": "markdown",
   "metadata": {},
   "source": [
    "## Close AxisVM"
   ]
  },
  {
   "cell_type": "markdown",
   "metadata": {},
   "source": [
    "Because we created the interface with `daemon=True`, the application closes without any warning."
   ]
  },
  {
   "cell_type": "code",
   "execution_count": 16,
   "metadata": {},
   "outputs": [],
   "source": [
    "axvm.Quit()"
   ]
  }
 ],
 "metadata": {
  "kernelspec": {
   "display_name": "Python 3.8.10 ('.axisvm': venv)",
   "language": "python",
   "name": "python3"
  },
  "language_info": {
   "codemirror_mode": {
    "name": "ipython",
    "version": 3
   },
   "file_extension": ".py",
   "mimetype": "text/x-python",
   "name": "python",
   "nbconvert_exporter": "python",
   "pygments_lexer": "ipython3",
   "version": "3.8.10"
  },
  "vscode": {
   "interpreter": {
    "hash": "62a188e81264291779f8a10a2e0f1db6faba48499db9735822f5bbb24c067aef"
   }
  }
 },
 "nbformat": 4,
 "nbformat_minor": 4
}
