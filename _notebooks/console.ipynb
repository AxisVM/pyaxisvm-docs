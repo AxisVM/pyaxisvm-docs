{
 "cells": [
  {
   "cell_type": "markdown",
   "metadata": {},
   "source": [
    "# Linear Static and Vibration Analysis of Bernoulli Frames"
   ]
  },
  {
   "cell_type": "markdown",
   "metadata": {},
   "source": [
    "This notebook demonstrates how to use **pyaxisvm** to build and analyze 3d frames. We will build a scalable model, consisting of a grid of Bernoulli beams, and perform a linear static analysis and a linear vibration analysis. We will use `NumPy` to store and handle numerical data and `PolyMesh` for grid generation."
   ]
  },
  {
   "cell_type": "markdown",
   "metadata": {},
   "source": [
    "## Input Data"
   ]
  },
  {
   "cell_type": "markdown",
   "metadata": {},
   "source": [
    "Python has a waste number of third party packages, that might save you dozens of time. Now we are going to use the `PolyMesh` library to create a grid of lines. The following lines contain all input parameters of the calculations. After modifying these, the rest should work."
   ]
  },
  {
   "cell_type": "code",
   "execution_count": 45,
   "metadata": {},
   "outputs": [],
   "source": [
    "# the size of the grid\n",
    "Lx, Ly, Lz = 10., 2.0, 1.0\n",
    "\n",
    "# these control subdivision\n",
    "# set these higher if you want more lines in the same space\n",
    "nx, ny, nz = 4, 2, 2  \n",
    "\n",
    "# data of a CHS section\n",
    "D = 0.1  # outer diameter of the tube in m\n",
    "t = 0.05  # thickness of the tube in m\n",
    "\n",
    "# value of the concentrated force at the free end in kN\n",
    "# and the number of load cases to generate\n",
    "F = 1.0 \n",
    "nCase = 5  \n"
   ]
  },
  {
   "cell_type": "markdown",
   "metadata": {},
   "source": [
    "### Mesh Creation"
   ]
  },
  {
   "cell_type": "markdown",
   "metadata": {},
   "source": [
    "We can create a 3d grid of bernoulli beams using the `PolyMesh` library. After it, we are going to have our mesh as two `NumPy` arrays, `coords` for the coordinates and `topo` for nodal connectivity. We will use these to build our AxisVM model."
   ]
  },
  {
   "cell_type": "code",
   "execution_count": 46,
   "metadata": {},
   "outputs": [],
   "source": [
    "from polymesh.space import StandardFrame, PointCloud\n",
    "from polymesh.grid import gridH8 as grid\n",
    "from polymesh.topo.tr import H8_to_L2\n",
    "import numpy as np\n",
    "\n",
    "# mesh\n",
    "gridparams = {\n",
    "    'size': (Lx, Ly, Lz),\n",
    "    'shape': (nx, ny, nz),\n",
    "    'origo': (0, 0, 0),\n",
    "    'start': 0\n",
    "}\n",
    "\n",
    "# create a grid of hexagonals\n",
    "coords, topo = grid(**gridparams)\n",
    "\n",
    "# turn the hexagonal mesh into lines\n",
    "coords, topo = H8_to_L2(coords, topo)\n",
    "\n",
    "GlobalFrame = StandardFrame(dim=3)\n",
    "\n",
    "# define a pointcloud\n",
    "points = PointCloud(coords, frame=GlobalFrame).centralize()\n",
    "\n",
    "# set the origo to the center of the fixed end\n",
    "dx = - np.array([points[:, 0].min(), 0., 0.])\n",
    "points.move(dx)\n",
    "\n",
    "# get the coordinates of the vectors\n",
    "coords = points.show()\n"
   ]
  },
  {
   "cell_type": "markdown",
   "metadata": {},
   "source": [
    "## AxisVM"
   ]
  },
  {
   "cell_type": "markdown",
   "metadata": {},
   "source": [
    "Starting an AxisVM instance is easy. If in a Jupyter Notebook, drop the interface and watch a html represantation of it, which summarizes the version of the application and the type library as well."
   ]
  },
  {
   "cell_type": "code",
   "execution_count": 47,
   "metadata": {},
   "outputs": [
    {
     "data": {
      "text/html": [
       "\n",
       "<table>\n",
       "<tr><th>IAxisVMApplication</th><th>Information</th></tr>\n",
       "<tr><td>AxisVM Platform</td><td>64 bit</td></tr>\n",
       "<tr><td>AxisVM Version</td><td>15 r4r En 0</td></tr>\n",
       "<tr><td>Type Library Version</td><td>15 401</td></tr>\n",
       "</table>\n",
       "\n"
      ],
      "text/plain": [
       "IAxisVMApplication (0x1e757c54b80)\n",
       "  AxisVM Platform:\t6\n",
       "  AxisVM Version:\t1\n",
       "  Type Library Version:\t1"
      ]
     },
     "execution_count": 47,
     "metadata": {},
     "output_type": "execute_result"
    }
   ],
   "source": [
    "from axisvm.com.client import start_AxisVM\n",
    "axvm = start_AxisVM(visible=True, daemon=True)\n",
    "axvm\n"
   ]
  },
  {
   "cell_type": "code",
   "execution_count": 48,
   "metadata": {},
   "outputs": [
    {
     "data": {
      "text/html": [
       "\n",
       "<table>\n",
       "<tr><th>IAxisVMModel</th><th>Information</th></tr>\n",
       "<tr><td>N Nodes</td><td>45</td></tr>\n",
       "<tr><td>N Lines</td><td>96</td></tr>\n",
       "<tr><td>N Members</td><td>96</td></tr>\n",
       "<tr><td>N Surfaces</td><td>0</td></tr>\n",
       "<tr><td>N Domains</td><td>0</td></tr>\n",
       "</table>\n",
       "\n"
      ],
      "text/plain": [
       "IAxisVMModel (0x1e757e6a100)\n",
       "  N Nodes:\t45\n",
       "  N Lines:\t96\n",
       "  N Members:\t96\n",
       "  N Surfaces:\t0\n",
       "  N Domains:\t0"
      ]
     },
     "execution_count": 48,
     "metadata": {},
     "output_type": "execute_result"
    }
   ],
   "source": [
    "import axisvm.com.tlb as axtlb\n",
    "\n",
    "# create new model\n",
    "modelId = axvm.Models.New()\n",
    "axm = axvm.Models[modelId]\n",
    "\n",
    "# material\n",
    "ndc, material = axtlb.ndcEuroCode, \"S 235\"\n",
    "axm.Settings.NationalDesignCode = ndc\n",
    "\n",
    "# cross section\n",
    "MaterialIndex = axm.Materials.AddFromCatalog(ndc, material)\n",
    "CrossSectionIndex = axm.CrossSections.AddCircleHollow('S1', D, t)\n",
    "\n",
    "# crate nodes\n",
    "fnc = axm.Nodes.Add\n",
    "list(map(lambda c: fnc(*c), coords))\n",
    "\n",
    "# create lines\n",
    "fnc = axm.Lines.Add\n",
    "GeomType = axtlb.lgtStraightLine\n",
    "list(map(lambda x: fnc(x[0], x[1], GeomType), topo + 1))\n",
    "\n",
    "# set material and cross section\n",
    "LineAttr = axtlb.RLineAttr(\n",
    "    LineType=axtlb.ltBeam,\n",
    "    MaterialIndex=MaterialIndex,\n",
    "    StartCrossSectionIndex=CrossSectionIndex,\n",
    "    EndCrossSectionIndex=CrossSectionIndex\n",
    ")\n",
    "lineIDs = [i+1 for i in range(axm.Lines.Count)]\n",
    "attributes = [LineAttr for _ in range(axm.Lines.Count)]\n",
    "axm.Lines.BulkSetAttr(lineIDs, attributes)\n",
    "\n",
    "# nodal supports\n",
    "spring = axtlb.RStiffnesses(x=1e12, y=1e12, z=1e12, xx=1e12, yy=1e12, zz=1e12)\n",
    "RNonLinearity = axtlb.RNonLinearity(\n",
    "    x=axtlb.lnlTensionAndCompression,\n",
    "    y=axtlb.lnlTensionAndCompression,\n",
    "    z=axtlb.lnlTensionAndCompression,\n",
    "    xx=axtlb.lnlTensionAndCompression,\n",
    "    yy=axtlb.lnlTensionAndCompression,\n",
    "    zz=axtlb.lnlTensionAndCompression\n",
    ")\n",
    "RResistances = axtlb.RResistances(x=0, y=0, z=0, xx=0, yy=0, zz=0)\n",
    "ebcinds = np.where(coords[:, 0] < 1e-12)[0]\n",
    "for i in ebcinds:\n",
    "    axm.NodalSupports.AddNodalGlobal(spring, RNonLinearity, RResistances, i+1)\n",
    "\n",
    "# nodal loads\n",
    "load_cases = {}\n",
    "LoadCaseType = axtlb.lctStandard\n",
    "inds = np.where(coords[:, 0] > Lx - 1e-12)[0] + 1\n",
    "axm.BeginUpdate()\n",
    "for case in range(nCase):\n",
    "    name = 'LC{}'.format(case+1)\n",
    "    lcid = axm.LoadCases.Add(name, LoadCaseType)\n",
    "    pid = np.random.choice(inds)\n",
    "    Fx, Fy, Fz = 0, 0, -F\n",
    "    force = axtlb.RLoadNodalForce(\n",
    "        LoadCaseId=lcid,\n",
    "        NodeId=pid,\n",
    "        Fx=Fx, Fy=Fy, Fz=Fz,\n",
    "        Mx=0., My=0., Mz=0.,\n",
    "        ReferenceId=0\n",
    "    )\n",
    "    axm.Loads.AddNodalForce(force)\n",
    "    load_cases[lcid] = dict(name=name, id=case)\n",
    "axm.EndUpdate()\n",
    "\n",
    "# save the model before calculation\n",
    "fpath = 'the_name_of_your_file.axs'\n",
    "axm.SaveToFile(fpath, False)\n",
    "axm\n"
   ]
  },
  {
   "cell_type": "markdown",
   "metadata": {},
   "source": [
    "## Linear Static Analysis"
   ]
  },
  {
   "cell_type": "markdown",
   "metadata": {},
   "source": [
    "We can perform a linear elastic static analysis with the following command:"
   ]
  },
  {
   "cell_type": "code",
   "execution_count": 49,
   "metadata": {},
   "outputs": [
    {
     "data": {
      "text/plain": [
       "1"
      ]
     },
     "execution_count": 49,
     "metadata": {},
     "output_type": "execute_result"
    }
   ],
   "source": [
    "axm.Calculation.LinearAnalysis(axtlb.cuiNoUserInteractionWithAutoCorrectNoShow)"
   ]
  },
  {
   "cell_type": "markdown",
   "metadata": {},
   "source": [
    "You can make a screenshot anytime!"
   ]
  },
  {
   "cell_type": "code",
   "execution_count": 50,
   "metadata": {},
   "outputs": [
    {
     "data": {
      "image/png": "[encoded data removed]",
      "text/plain": [
       "<PIL.BmpImagePlugin.DibImageFile image mode=RGB size=840x571>"
      ]
     },
     "execution_count": 50,
     "metadata": {},
     "output_type": "execute_result"
    }
   ],
   "source": [
    "axvm.BringToFront()\n",
    "axm.View = axtlb.vPerspective\n",
    "axvm.MainFormTab = axtlb.mftStatic\n",
    "axm.FitInView()\n",
    "axm.Windows[1].screenshot()"
   ]
  },
  {
   "cell_type": "markdown",
   "metadata": {},
   "source": [
    "The following block fetches degree of freedom solutions for all nodes in the model and stores it in a `NumPy` array. You can use this block as a template in any of your future workflows."
   ]
  },
  {
   "cell_type": "code",
   "execution_count": 51,
   "metadata": {},
   "outputs": [],
   "source": [
    "nIDs = [i+1 for i in range(axm.Nodes.Count)]\n",
    "disps = axm.Results.Displacements\n",
    "disps.DisplacementSystem = axtlb.dsGlobal\n",
    "disps.LoadLevelOrModeShapeOrTimeStep = 1\n",
    "dofsol = np.zeros((axm.Nodes.Count, 3, nCase))\n",
    "def f_ex(i): return disps.NodalDisplacementByLoadCaseId(i)[0].ex\n",
    "def f_ey(i): return disps.NodalDisplacementByLoadCaseId(i)[0].ey\n",
    "def f_ez(i): return disps.NodalDisplacementByLoadCaseId(i)[0].ez\n",
    "for lcid, lcdata in load_cases.items():\n",
    "    lcname = lcdata['name']\n",
    "    disps.LoadCaseId = lcid\n",
    "    dataid = lcdata['id']\n",
    "    dofsol[:, 0, dataid] = np.array(list(map(f_ex, nIDs)))\n",
    "    dofsol[:, 1, dataid] = np.array(list(map(f_ey, nIDs)))\n",
    "    dofsol[:, 2, dataid] = np.array(list(map(f_ez, nIDs)))\n",
    "dofsol[np.where(np.abs(dofsol) < 0.00001)] = 0.0"
   ]
  },
  {
   "cell_type": "markdown",
   "metadata": {},
   "source": [
    "The array has values for all 45 nodes, 3 spatial dimensions and 5 load cases"
   ]
  },
  {
   "cell_type": "code",
   "execution_count": 52,
   "metadata": {},
   "outputs": [
    {
     "data": {
      "text/plain": [
       "(45, 3, 5)"
      ]
     },
     "execution_count": 52,
     "metadata": {},
     "output_type": "execute_result"
    }
   ],
   "source": [
    "dofsol.shape"
   ]
  },
  {
   "cell_type": "markdown",
   "metadata": {},
   "source": [
    "## Vibration Analysis"
   ]
  },
  {
   "cell_type": "markdown",
   "metadata": {},
   "source": [
    "The following block performs a vibration analysis for the first load case."
   ]
  },
  {
   "cell_type": "code",
   "execution_count": 53,
   "metadata": {},
   "outputs": [
    {
     "data": {
      "text/plain": [
       "[<comtypes.gen._0AA46C32_04EF_46E3_B0E4_D2DA28D0AB08_0_16_100.RVibration at 0x1e757debec0>,\n",
       " 1]"
      ]
     },
     "execution_count": 53,
     "metadata": {},
     "output_type": "execute_result"
    }
   ],
   "source": [
    "options = axtlb.RVibration(\n",
    "    LoadCase = 1,\n",
    "    Iterations = 30,\n",
    "    ModeShapes = 15,\n",
    "    EigenValueConvergence = 1e-3,\n",
    "    EigenVectorConvergence = 1e-3,\n",
    "    MassControl = axtlb.mcMassesOnly,\n",
    "    ConvertLoadsToMasses = False,\n",
    "    ConcentratedMasses = False,\n",
    "    ConvertConcentratedMassesToLoads = False,\n",
    "    ElementMasses = True,\n",
    "    MassComponentX = True,\n",
    "    MassComponentY = True,\n",
    "    MassComponentZ = True,\n",
    "    ConvertSlabsToDiaphragms = False,\n",
    "    MassMatrixType = axtlb.mtConsistent,\n",
    "    IncreasedSupportStiffness = False,\n",
    "    MassesTakenIntoAccount=axtlb.mtiaAll\n",
    ")\n",
    "interaction = axtlb.cuiNoUserInteractionWithAutoCorrectNoShow\n",
    "axm.Calculation.Vibration(options, interaction)"
   ]
  },
  {
   "cell_type": "markdown",
   "metadata": {},
   "source": [
    "Execute this line to get the natural circular frequencies:"
   ]
  },
  {
   "cell_type": "code",
   "execution_count": 54,
   "metadata": {},
   "outputs": [
    {
     "data": {
      "text/plain": [
       "(2.959385451831059,\n",
       " 3.0874871771922074,\n",
       " 4.2843169427821906,\n",
       " 9.185151639376052,\n",
       " 9.515214328710275,\n",
       " 12.974291945228083,\n",
       " 15.96847008498523,\n",
       " 16.552764989633506,\n",
       " 21.82392993055216,\n",
       " 21.869449619700013,\n",
       " 22.11765361461048,\n",
       " 28.831941430030103,\n",
       " 61.843802681433814,\n",
       " 63.1993862629429,\n",
       " 67.8132972985758)"
      ]
     },
     "execution_count": 54,
     "metadata": {},
     "output_type": "execute_result"
    }
   ],
   "source": [
    "freks, _ = axm.Results.GetAllFrequencies(axtlb.atLinearVibration, 1)\n",
    "freks"
   ]
  },
  {
   "cell_type": "markdown",
   "metadata": {},
   "source": [
    "You can also get modal mass factors. It is easy to read out from the results, that the first two modes correspond to bending shapes."
   ]
  },
  {
   "cell_type": "code",
   "execution_count": 55,
   "metadata": {},
   "outputs": [
    {
     "data": {
      "text/plain": [
       "array([[ 0.        , 74.60765839,  0.        ],\n",
       "       [ 0.        ,  0.        , 74.40606356],\n",
       "       [ 0.        ,  0.        ,  0.        ],\n",
       "       [ 0.        ,  8.9579545 ,  0.        ],\n",
       "       [ 0.        ,  0.        ,  9.68592092],\n",
       "       [ 0.        ,  0.        ,  0.        ],\n",
       "       [ 0.        ,  2.84366924,  0.        ],\n",
       "       [ 0.        ,  0.        ,  2.56371368],\n",
       "       [ 0.        ,  0.        ,  0.        ],\n",
       "       [ 0.        ,  0.7027301 ,  0.        ],\n",
       "       [ 0.        ,  0.        ,  0.55825803],\n",
       "       [ 0.        ,  0.        ,  0.        ],\n",
       "       [ 0.        ,  0.        ,  0.        ],\n",
       "       [ 0.        ,  0.        ,  0.        ],\n",
       "       [ 0.        ,  0.        ,  0.        ]])"
      ]
     },
     "execution_count": 55,
     "metadata": {},
     "output_type": "execute_result"
    }
   ],
   "source": [
    "records, _ = axm.Results.GetAllModalMassfactors(axtlb.atLinearVibration, 1)\n",
    "records = np.array([[r.x, r.y, r.z] for r in records])\n",
    "records[np.where(records < 0.001)] = 0.0  # rule out small values\n",
    "records *= 100  # to get percentage values\n",
    "records"
   ]
  },
  {
   "cell_type": "markdown",
   "metadata": {},
   "source": [
    "Finally, close AxisVM if you are done."
   ]
  },
  {
   "cell_type": "code",
   "execution_count": 56,
   "metadata": {},
   "outputs": [],
   "source": [
    "axvm.Quit()"
   ]
  }
 ],
 "metadata": {
  "kernelspec": {
   "display_name": "Python 3.8.10 ('.axisvm': venv)",
   "language": "python",
   "name": "python3"
  },
  "language_info": {
   "codemirror_mode": {
    "name": "ipython",
    "version": 3
   },
   "file_extension": ".py",
   "mimetype": "text/x-python",
   "name": "python",
   "nbconvert_exporter": "python",
   "pygments_lexer": "ipython3",
   "version": "3.8.10"
  },
  "vscode": {
   "interpreter": {
    "hash": "75f801d42fddfbedd62bf9fb9562c0e8fb7997dfe614b782ff1e1c11b6f734f0"
   }
  }
 },
 "nbformat": 4,
 "nbformat_minor": 2
}
